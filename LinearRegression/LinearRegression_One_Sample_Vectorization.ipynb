{
  "nbformat": 4,
  "nbformat_minor": 0,
  "metadata": {
    "colab": {
      "provenance": [],
      "mount_file_id": "1kOA122c1-ya1dba9mgPkk1x4WOoWaWeL",
      "authorship_tag": "ABX9TyMuwMELDwHh35I1QqpdQiZ6",
      "include_colab_link": true
    },
    "kernelspec": {
      "name": "python3",
      "display_name": "Python 3"
    },
    "language_info": {
      "name": "python"
    }
  },
  "cells": [
    {
      "cell_type": "markdown",
      "metadata": {
        "id": "view-in-github",
        "colab_type": "text"
      },
      "source": [
        "<a href=\"https://colab.research.google.com/github/thq1995/Deep_Learning/blob/main/LinearRegression/LinearRegression_One_Sample_Vectorization.ipynb\" target=\"_parent\"><img src=\"https://colab.research.google.com/assets/colab-badge.svg\" alt=\"Open In Colab\"/></a>"
      ]
    },
    {
      "cell_type": "code",
      "execution_count": 1,
      "metadata": {
        "colab": {
          "base_uri": "https://localhost:8080/"
        },
        "id": "jmyAigbHNrYB",
        "outputId": "b18c35dd-7101-445d-a1bc-122427968e9c"
      },
      "outputs": [
        {
          "output_type": "stream",
          "name": "stdout",
          "text": [
            "Drive already mounted at /content/drive; to attempt to forcibly remount, call drive.mount(\"/content/drive\", force_remount=True).\n"
          ]
        }
      ],
      "source": [
        "from google.colab import drive\n",
        "drive.mount('/content/drive')"
      ]
    },
    {
      "cell_type": "code",
      "source": [
        "file_path = \"/content/drive/MyDrive/AI_VN_2023/Lecture-Code/230621 - M02ML07/code - update/data.csv\""
      ],
      "metadata": {
        "id": "udJH00eeOJzG"
      },
      "execution_count": 2,
      "outputs": []
    },
    {
      "cell_type": "code",
      "source": [
        "import numpy as np\n",
        "import matplotlib.pyplot as plt\n",
        "from numpy import genfromtxt\n",
        "\n",
        "data = genfromtxt(file_path, delimiter=',')\n",
        "print(data)\n",
        "areas = data[:,:1]\n",
        "prices = data[:,1:]\n",
        "N = areas.size\n",
        "\n",
        "print('areas\\n', areas)\n",
        "print('prices\\n', prices)\n",
        "\n",
        "plt.scatter(areas, prices)\n",
        "plt.xlabel(\"Area (m^2)\")\n",
        "plt.ylabel(\"Prices\")\n",
        "plt.show()"
      ],
      "metadata": {
        "colab": {
          "base_uri": "https://localhost:8080/",
          "height": 698
        },
        "id": "vas3MycZONMb",
        "outputId": "bb0a21af-edb2-4409-c837-759330154a7b"
      },
      "execution_count": 23,
      "outputs": [
        {
          "output_type": "stream",
          "name": "stdout",
          "text": [
            "[[6.7 9.1]\n",
            " [4.6 5.9]\n",
            " [3.5 4.6]\n",
            " [5.5 6.7]]\n",
            "areas\n",
            " [[6.7]\n",
            " [4.6]\n",
            " [3.5]\n",
            " [5.5]]\n",
            "prices\n",
            " [[9.1]\n",
            " [5.9]\n",
            " [4.6]\n",
            " [6.7]]\n"
          ]
        },
        {
          "output_type": "display_data",
          "data": {
            "text/plain": [
              "<Figure size 640x480 with 1 Axes>"
            ],
            "image/png": "[encoded data removed]"
          },
          "metadata": {}
        }
      ]
    },
    {
      "cell_type": "code",
      "source": [
        "class LinearRegressionOneSample():\n",
        "    # forward\n",
        "    def predict(x, theta):\n",
        "        return x.dot(theta)\n",
        "\n",
        "    def gradient(y_hat, y):\n",
        "        d_theta = 2*x*(y_hat-y)\n",
        "\n",
        "    def new\n",
        "\n",
        ""
      ],
      "metadata": {
        "id": "uAr8iMKtOZLT"
      },
      "execution_count": null,
      "outputs": []
    },
    {
      "cell_type": "code",
      "source": [],
      "metadata": {
        "id": "ryMUqYsH3AWt"
      },
      "execution_count": null,
      "outputs": []
    }
  ]
}